{
 "cells": [
  {
   "cell_type": "markdown",
   "metadata": {
    "id": "gQskE9NgL-ZB"
   },
   "source": [
    "Copyright 2018 The TensorFlow Datasets Authors, Licensed under the Apache License, Version 2.0"
   ]
  },
  {
   "cell_type": "code",
   "execution_count": null,
   "metadata": {
    "id": "RPo1Cw2p83pb"
   },
   "outputs": [],
   "source": [
    "!pip install -q tensorflow-datasets tensorflow"
   ]
  },
  {
   "cell_type": "code",
   "execution_count": 29,
   "metadata": {
    "id": "S-RWB9G48uJA"
   },
   "outputs": [],
   "source": [
    "import tensorflow as tf\n",
    "import tensorflow_datasets as tfds\n",
    "import keras\n",
    "import numpy as np\n",
    "import random\n",
    "#'train' is the only available split\n",
    "ds = tfds.load('colorectal_histology', split='train', shuffle_files=True)\n"
   ]
  },
  {
   "cell_type": "code",
   "execution_count": 16,
   "metadata": {
    "id": "_QGT-d7hONSJ"
   },
   "outputs": [],
   "source": [
    "from keras.layers import Dense, Conv2D, MaxPooling2D, Flatten, Resizing, Rescaling"
   ]
  },
  {
   "cell_type": "code",
   "execution_count": 104,
   "metadata": {
    "id": "so4WhHEd0JQP"
   },
   "outputs": [],
   "source": [
    "X = np.array([row['image'] for row in ds])\n"
   ]
  },
  {
   "cell_type": "code",
   "execution_count": 105,
   "metadata": {
    "id": "L1WGJiMfhYZN"
   },
   "outputs": [],
   "source": [
    "y = np.array([row['label'] for row in ds])\n",
    "y = keras.utils.to_categorical(y)\n",
    "z = y[0][:]"
   ]
  },
  {
   "cell_type": "code",
   "execution_count": 106,
   "metadata": {
    "id": "Dk5AhJ7VhzoJ"
   },
   "outputs": [],
   "source": [
    "y = y[:,0]"
   ]
  },
  {
   "cell_type": "markdown",
   "metadata": {
    "id": "ioYZacaPE7dj"
   },
   "source": [
    "# Data augmentation for tumors"
   ]
  },
  {
   "cell_type": "code",
   "execution_count": 107,
   "metadata": {
    "colab": {
     "base_uri": "https://localhost:8080/"
    },
    "id": "PVJDGjiDF13r",
    "outputId": "9c467496-2286-432c-9243-23acab2513f2"
   },
   "outputs": [
    {
     "data": {
      "text/plain": [
       "(625, 150, 150, 3)"
      ]
     },
     "execution_count": 107,
     "metadata": {},
     "output_type": "execute_result"
    }
   ],
   "source": [
    "tumor_images = X[np.where(y == 1)]\n",
    "tumor_images.shape"
   ]
  },
  {
   "cell_type": "code",
   "execution_count": 108,
   "metadata": {
    "id": "ve6baw7oE_vf"
   },
   "outputs": [],
   "source": [
    "new_tumors = []\n",
    "while len(new_tumors)<5000:\n",
    "  random_index = random.randint(0,len(tumor_images)-1)\n",
    "  random_tumor = tumor_images[random_index]\n",
    "  rotated_tumor = tf.keras.preprocessing.image.random_rotation(x = random_tumor,\n",
    "                                                              row_axis=0,\n",
    "                                                              col_axis=1,\n",
    "                                                              channel_axis=2,\n",
    "                                                              rg = 360)\n",
    "  new_tumors.append(rotated_tumor) \n",
    "  y = np.append(y, 1)\n",
    "\n",
    "ary_tumors = np.array(new_tumors)"
   ]
  },
  {
   "cell_type": "code",
   "execution_count": 110,
   "metadata": {
    "id": "m-bjQZtLPEw2"
   },
   "outputs": [],
   "source": [
    "ary_tumors = np.array(new_tumors)\n",
    "X = np.concatenate((X,ary_tumors))\n"
   ]
  },
  {
   "cell_type": "markdown",
   "metadata": {
    "id": "fS4KtVvENHnz"
   },
   "source": [
    "Visual proof of the working rotation"
   ]
  },
  {
   "cell_type": "code",
   "execution_count": 111,
   "metadata": {
    "id": "RfscIOUeFKD-"
   },
   "outputs": [],
   "source": [
    "from PIL import Image\n",
    "import numpy as np\n",
    "\n",
    "w, h = 512, 512\n",
    "data = np.zeros((h, w, 3), dtype=np.uint8)\n",
    "data[0:256, 0:256] = [255, 0, 0] # red patch in upper left\n",
    "img = Image.fromarray(\n",
    "    tf.keras.preprocessing.image.random_rotation(x = X[-1],\n",
    "                                                  row_axis=0,\n",
    "                                                  col_axis=1,\n",
    "                                                  channel_axis=2,\n",
    "                                                  rg = 360),\n",
    "                       'RGB')\n",
    "img.save('my.png')\n",
    "img.show()"
   ]
  },
  {
   "cell_type": "code",
   "execution_count": 112,
   "metadata": {
    "colab": {
     "base_uri": "https://localhost:8080/"
    },
    "id": "hxjlkyJNN1OG",
    "outputId": "2d118db5-9cde-434d-aaa4-3daa427a0ea1"
   },
   "outputs": [
    {
     "data": {
      "text/plain": [
       "(10000, 150, 150, 3)"
      ]
     },
     "execution_count": 112,
     "metadata": {},
     "output_type": "execute_result"
    }
   ],
   "source": [
    "X.shape"
   ]
  },
  {
   "cell_type": "markdown",
   "metadata": {
    "id": "l19o3hSON0s2"
   },
   "source": [
    "# Model"
   ]
  },
  {
   "cell_type": "code",
   "execution_count": 113,
   "metadata": {
    "id": "F1Zm9OIdJkX6"
   },
   "outputs": [],
   "source": [
    "model = keras.models.Sequential([\n",
    "    # include preprocessing layer, along with the input shape\n",
    "    tf.keras.layers.Rescaling(scale = 1/255, input_shape=(150,150,3)),\n",
    "    # TODO complete the Conv2D calls\n",
    "    Conv2D(16,3,padding=\"same\",activation='relu'),\n",
    "    MaxPooling2D(),\n",
    "    Conv2D(32,3,padding=\"same\",activation='relu'),\n",
    "    MaxPooling2D(),\n",
    "    Conv2D(64,3,padding=\"same\",activation='relu'),\n",
    "    MaxPooling2D(),\n",
    "    Flatten(),\n",
    "    # TODO include the final D[ense layers\n",
    "    Dense(128, activation='relu'),\n",
    "    Dense(1,activation='sigmoid'),\n",
    "])\n"
   ]
  },
  {
   "cell_type": "code",
   "execution_count": 114,
   "metadata": {
    "id": "CGHSriaTg3AW"
   },
   "outputs": [],
   "source": [
    "model.compile(tf.keras.optimizers.SGD(learning_rate=0.01),\n",
    "              loss = tf.keras.losses.BinaryCrossentropy(),\n",
    "              metrics=[tf.keras.metrics.Recall(), \"accuracy\"]\n",
    ")"
   ]
  },
  {
   "cell_type": "code",
   "execution_count": 115,
   "metadata": {
    "colab": {
     "base_uri": "https://localhost:8080/"
    },
    "id": "06F190LziSdN",
    "outputId": "f78a2a14-3970-4a15-d48c-ed7cfda49146"
   },
   "outputs": [
    {
     "data": {
      "text/plain": [
       "((10000, 150, 150, 3), (10000,))"
      ]
     },
     "execution_count": 115,
     "metadata": {},
     "output_type": "execute_result"
    }
   ],
   "source": [
    "(X.shape,y.shape)"
   ]
  },
  {
   "cell_type": "code",
   "execution_count": 116,
   "metadata": {
    "colab": {
     "base_uri": "https://localhost:8080/"
    },
    "id": "4xFd5e_-ulLY",
    "outputId": "667fa899-57b3-469f-83e1-c26011a1b91c"
   },
   "outputs": [
    {
     "name": "stdout",
     "output_type": "stream",
     "text": [
      "Epoch 1/3\n",
      "250/250 [==============================] - 5s 19ms/step - loss: 0.6885 - recall_3: 0.0830 - accuracy: 0.5446 - val_loss: 0.7648 - val_recall_3: 0.0000e+00 - val_accuracy: 0.0000e+00\n",
      "Epoch 2/3\n",
      "250/250 [==============================] - 4s 17ms/step - loss: 0.6841 - recall_3: 0.0326 - accuracy: 0.5487 - val_loss: 0.8448 - val_recall_3: 0.0000e+00 - val_accuracy: 0.0000e+00\n",
      "Epoch 3/3\n",
      "250/250 [==============================] - 4s 17ms/step - loss: 0.6806 - recall_3: 0.1230 - accuracy: 0.5625 - val_loss: 0.8095 - val_recall_3: 0.0140 - val_accuracy: 0.0140\n"
     ]
    },
    {
     "data": {
      "text/plain": [
       "<keras.callbacks.History at 0x7f6d20180790>"
      ]
     },
     "execution_count": 116,
     "metadata": {},
     "output_type": "execute_result"
    }
   ],
   "source": [
    "model.fit(X,y,batch_size=32, epochs=3, validation_split=.2)"
   ]
  },
  {
   "cell_type": "code",
   "execution_count": null,
   "metadata": {
    "id": "ZSSPLoMyCpm1"
   },
   "outputs": [],
   "source": []
  }
 ],
 "metadata": {
  "accelerator": "GPU",
  "colab": {
   "provenance": []
  },
  "gpuClass": "standard",
  "kernelspec": {
   "display_name": "Python 3 (ipykernel)",
   "language": "python",
   "name": "python3"
  },
  "language_info": {
   "codemirror_mode": {
    "name": "ipython",
    "version": 3
   },
   "file_extension": ".py",
   "mimetype": "text/x-python",
   "name": "python",
   "nbconvert_exporter": "python",
   "pygments_lexer": "ipython3",
   "version": "3.10.6"
  }
 },
 "nbformat": 4,
 "nbformat_minor": 1
}
