{
 "cells": [
  {
   "cell_type": "markdown",
   "metadata": {
    "id": "gQskE9NgL-ZB"
   },
   "source": [
    "Copyright 2018 The TensorFlow Datasets Authors, Licensed under the Apache License, Version 2.0"
   ]
  },
  {
   "cell_type": "code",
   "execution_count": 1,
   "metadata": {
    "id": "RPo1Cw2p83pb"
   },
   "outputs": [],
   "source": [
    "!pip install -q tensorflow-datasets tensorflow"
   ]
  },
  {
   "cell_type": "code",
   "execution_count": 2,
   "metadata": {
    "colab": {
     "base_uri": "https://localhost:8080/"
    },
    "id": "FVdwO7q6vzhh",
    "outputId": "ab9ae61f-c78b-490c-f2bb-439b60c9df05"
   },
   "outputs": [
    {
     "name": "stdout",
     "output_type": "stream",
     "text": [
      "Looking in indexes: https://pypi.org/simple, https://us-python.pkg.dev/colab-wheels/public/simple/\n",
      "Requirement already satisfied: keras_cv in /usr/local/lib/python3.8/dist-packages (0.3.4)\n",
      "Requirement already satisfied: absl-py in /usr/local/lib/python3.8/dist-packages (from keras_cv) (1.3.0)\n",
      "Requirement already satisfied: regex in /usr/local/lib/python3.8/dist-packages (from keras_cv) (2022.6.2)\n",
      "Requirement already satisfied: packaging in /usr/local/lib/python3.8/dist-packages (from keras_cv) (21.3)\n",
      "Requirement already satisfied: pyparsing!=3.0.5,>=2.0.2 in /usr/local/lib/python3.8/dist-packages (from packaging->keras_cv) (3.0.9)\n"
     ]
    }
   ],
   "source": [
    "pip install keras_cv"
   ]
  },
  {
   "cell_type": "code",
   "execution_count": 11,
   "metadata": {
    "id": "S-RWB9G48uJA"
   },
   "outputs": [],
   "source": [
    "import tensorflow as tf\n",
    "import tensorflow_datasets as tfds\n",
    "import keras\n",
    "import keras_cv\n",
    "import numpy as np\n",
    "import random\n",
    "#'train' is the only available split\n",
    "ds = tfds.load('colorectal_histology', split='train', shuffle_files=True)\n"
   ]
  },
  {
   "cell_type": "code",
   "execution_count": 12,
   "metadata": {
    "id": "_QGT-d7hONSJ"
   },
   "outputs": [],
   "source": [
    "from keras.layers import Dense, Conv2D, MaxPooling2D, Flatten, Resizing, Rescaling\n",
    "from keras_cv.layers import Grayscale"
   ]
  },
  {
   "cell_type": "code",
   "execution_count": 5,
   "metadata": {
    "id": "so4WhHEd0JQP"
   },
   "outputs": [],
   "source": [
    "X = np.array([row['image'] for row in ds])\n"
   ]
  },
  {
   "cell_type": "code",
   "execution_count": 6,
   "metadata": {
    "id": "L1WGJiMfhYZN"
   },
   "outputs": [],
   "source": [
    "y = np.array([row['label'] for row in ds])\n",
    "y = keras.utils.to_categorical(y)\n",
    "z = y[0][:]"
   ]
  },
  {
   "cell_type": "code",
   "execution_count": 7,
   "metadata": {
    "id": "Dk5AhJ7VhzoJ"
   },
   "outputs": [],
   "source": [
    "y = y[:,0]"
   ]
  },
  {
   "cell_type": "markdown",
   "metadata": {
    "id": "ioYZacaPE7dj"
   },
   "source": [
    "# Data augmentation for tumors"
   ]
  },
  {
   "cell_type": "code",
   "execution_count": 8,
   "metadata": {
    "colab": {
     "base_uri": "https://localhost:8080/"
    },
    "id": "PVJDGjiDF13r",
    "outputId": "f506925d-ee4c-456d-c968-0f152994d763"
   },
   "outputs": [
    {
     "data": {
      "text/plain": [
       "(625, 150, 150, 3)"
      ]
     },
     "execution_count": 8,
     "metadata": {},
     "output_type": "execute_result"
    }
   ],
   "source": [
    "tumor_images = X[np.where(y == 1)]\n",
    "tumor_images.shape"
   ]
  },
  {
   "cell_type": "code",
   "execution_count": 9,
   "metadata": {
    "id": "ve6baw7oE_vf"
   },
   "outputs": [],
   "source": [
    "new_tumors = []\n",
    "while len(new_tumors)<5000:\n",
    "  random_index = random.randint(0,len(tumor_images)-1)\n",
    "  random_tumor = tumor_images[random_index]\n",
    "  rotated_tumor = tf.keras.preprocessing.image.random_rotation(x = random_tumor,\n",
    "                                                              row_axis=0,\n",
    "                                                              col_axis=1,\n",
    "                                                              channel_axis=2,\n",
    "                                                              rg = 360)\n",
    "  new_tumors.append(rotated_tumor) \n",
    "  y = np.append(y, 1)\n",
    "\n",
    "ary_tumors = np.array(new_tumors)"
   ]
  },
  {
   "cell_type": "code",
   "execution_count": 10,
   "metadata": {
    "id": "m-bjQZtLPEw2"
   },
   "outputs": [],
   "source": [
    "ary_tumors = np.array(new_tumors)\n",
    "X = np.concatenate((X,ary_tumors))\n"
   ]
  },
  {
   "cell_type": "markdown",
   "metadata": {
    "id": "fS4KtVvENHnz"
   },
   "source": [
    "Visual proof of the working rotation"
   ]
  },
  {
   "cell_type": "code",
   "execution_count": 18,
   "metadata": {
    "id": "RfscIOUeFKD-"
   },
   "outputs": [],
   "source": [
    "from PIL import Image\n",
    "import numpy as np\n",
    "\n",
    "w, h = 512, 512\n",
    "data = np.zeros((h, w, 3), dtype=np.uint8)\n",
    "data[0:256, 0:256] = [255, 0, 0] # red patch in upper left\n",
    "img = Image.fromarray(\n",
    "    tf.keras.preprocessing.image.random_rotation(x = X[-1],\n",
    "                                                  row_axis=0,\n",
    "                                                  col_axis=1,\n",
    "                                                  channel_axis=2,\n",
    "                                                  rg = 360),\n",
    "                       'RGB')\n",
    "img.save('my.png')\n",
    "img.show()"
   ]
  },
  {
   "cell_type": "code",
   "execution_count": 19,
   "metadata": {
    "colab": {
     "base_uri": "https://localhost:8080/"
    },
    "id": "hxjlkyJNN1OG",
    "outputId": "887d56fb-3ae0-4db6-99ae-c912e47e1f05"
   },
   "outputs": [
    {
     "data": {
      "text/plain": [
       "(15000, 150, 150, 3)"
      ]
     },
     "execution_count": 19,
     "metadata": {},
     "output_type": "execute_result"
    }
   ],
   "source": [
    "X.shape"
   ]
  },
  {
   "cell_type": "markdown",
   "metadata": {
    "id": "pjgAQnwWu2j8"
   },
   "source": [
    "# Grey scaling\n",
    "\n"
   ]
  },
  {
   "cell_type": "code",
   "execution_count": null,
   "metadata": {
    "id": "uQCj4_rNvMol"
   },
   "outputs": [],
   "source": [
    "def to_grey_scale(X):\n",
    "  return np.dot(X[...,:3], [.3, .6, .1])\n",
    "\n",
    "to_grey_scale(X)"
   ]
  },
  {
   "cell_type": "code",
   "execution_count": 10,
   "metadata": {
    "id": "ES9EC9HXygtO"
   },
   "outputs": [],
   "source": [
    "grayed_images = []\n",
    "for image in X:\n",
    "  np.dot(image)"
   ]
  },
  {
   "cell_type": "code",
   "execution_count": 17,
   "metadata": {
    "id": "kueR3_wm0Jad"
   },
   "outputs": [],
   "source": [
    "to_grayscale = keras_cv.layers.preprocessing.Grayscale()\n",
    "augmented_images = to_grayscale(X)"
   ]
  },
  {
   "cell_type": "markdown",
   "metadata": {
    "id": "UMWQ7dk84dSh"
   },
   "source": [
    "# Manual shuffle data"
   ]
  },
  {
   "cell_type": "code",
   "execution_count": 49,
   "metadata": {
    "id": "yxwDKZ1Y4o7q"
   },
   "outputs": [],
   "source": [
    "data = [(augmented_images[i],y[i]) for i in range(len(y))]"
   ]
  },
  {
   "cell_type": "code",
   "execution_count": 50,
   "metadata": {
    "id": "Kt96mCGz5B-T"
   },
   "outputs": [],
   "source": [
    "random.shuffle(data)"
   ]
  },
  {
   "cell_type": "code",
   "execution_count": 51,
   "metadata": {
    "id": "Cp2BZ9iC5Gxl"
   },
   "outputs": [],
   "source": [
    "augmented_images = np.array([data[i][0] for i in range(len(data))])\n",
    "y = np.array([data[i][1] for i in range(len(data))])\n"
   ]
  },
  {
   "cell_type": "code",
   "execution_count": 52,
   "metadata": {
    "colab": {
     "base_uri": "https://localhost:8080/"
    },
    "id": "c_cgpNsP5uW0",
    "outputId": "9b01d4fa-d0da-4fb1-870f-e79a1553a16e"
   },
   "outputs": [
    {
     "data": {
      "text/plain": [
       "(1.0, 1.0, 1.0)"
      ]
     },
     "execution_count": 52,
     "metadata": {},
     "output_type": "execute_result"
    }
   ],
   "source": [
    "(y[1],y[2],y[3])\n"
   ]
  },
  {
   "cell_type": "markdown",
   "metadata": {
    "id": "0jl_6j-V2V9-"
   },
   "source": [
    "# Manual train test split"
   ]
  },
  {
   "cell_type": "code",
   "execution_count": 53,
   "metadata": {
    "id": "rkIZhZIZ2dZF"
   },
   "outputs": [],
   "source": [
    "assert len(augmented_images) == len(y)\n",
    "train_test_ratio = .8\n",
    "split_index = int(len(augmented_images)*train_test_ratio)\n",
    "\n",
    "X_train = augmented_images[:split_index]\n",
    "y_train = y[:split_index]\n",
    "X_test = augmented_images[split_index:]\n",
    "y_test = y[split_index:]\n"
   ]
  },
  {
   "cell_type": "markdown",
   "metadata": {
    "id": "l19o3hSON0s2"
   },
   "source": [
    "# Model"
   ]
  },
  {
   "cell_type": "code",
   "execution_count": 61,
   "metadata": {
    "id": "F1Zm9OIdJkX6"
   },
   "outputs": [],
   "source": [
    "model = keras.models.Sequential([\n",
    "    tf.keras.layers.Rescaling(scale = 1/255, input_shape=(150,150,1)),\n",
    "    #keras_cv.layers.preprocessing.Grayscale(),\n",
    "    Conv2D(16,3,padding=\"same\",activation='relu'),\n",
    "    MaxPooling2D(),\n",
    "    Conv2D(32,3,padding=\"same\",activation='relu'),\n",
    "    MaxPooling2D(),\n",
    "    Conv2D(64,3,padding=\"same\",activation='relu'),\n",
    "    MaxPooling2D(),\n",
    "    Conv2D(64,3,padding=\"same\",activation='relu'),\n",
    "    MaxPooling2D(),\n",
    "    Conv2D(64,3,padding=\"same\",activation='relu'),\n",
    "    MaxPooling2D(),\n",
    "    Conv2D(64,3,padding=\"same\",activation='relu'),\n",
    "    MaxPooling2D(),\n",
    "    Conv2D(64,3,padding=\"same\",activation='relu'),\n",
    "    MaxPooling2D(),\n",
    "    Flatten(),\n",
    "    Dense(128, activation='relu'),\n",
    "    Dense(1,activation='sigmoid'),\n",
    "])\n"
   ]
  },
  {
   "cell_type": "code",
   "execution_count": 62,
   "metadata": {
    "id": "CGHSriaTg3AW"
   },
   "outputs": [],
   "source": [
    "model.compile(tf.keras.optimizers.SGD(learning_rate=0.01),\n",
    "              loss = tf.keras.losses.BinaryCrossentropy(),\n",
    "              metrics=[tf.keras.metrics.Recall(), \"accuracy\"]\n",
    ")"
   ]
  },
  {
   "cell_type": "code",
   "execution_count": 63,
   "metadata": {
    "colab": {
     "base_uri": "https://localhost:8080/"
    },
    "id": "06F190LziSdN",
    "outputId": "97ca8e21-e808-4cde-940e-0508d9519fc2"
   },
   "outputs": [
    {
     "data": {
      "text/plain": [
       "((10000, 150, 150, 3), (10000,))"
      ]
     },
     "execution_count": 63,
     "metadata": {},
     "output_type": "execute_result"
    }
   ],
   "source": [
    "(X.shape,y.shape)"
   ]
  },
  {
   "cell_type": "code",
   "execution_count": 64,
   "metadata": {
    "colab": {
     "base_uri": "https://localhost:8080/"
    },
    "id": "4xFd5e_-ulLY",
    "outputId": "b6c1df2b-a83b-49de-8f89-cd7f0fd48e7e"
   },
   "outputs": [
    {
     "name": "stdout",
     "output_type": "stream",
     "text": [
      "Epoch 1/10\n",
      "250/250 [==============================] - 6s 20ms/step - loss: 0.6883 - recall_4: 1.0000 - accuracy: 0.5592 - val_loss: 0.6835 - val_recall_4: 1.0000 - val_accuracy: 0.5755\n",
      "Epoch 2/10\n",
      "250/250 [==============================] - 4s 18ms/step - loss: 0.6863 - recall_4: 1.0000 - accuracy: 0.5592 - val_loss: 0.6826 - val_recall_4: 1.0000 - val_accuracy: 0.5755\n",
      "Epoch 3/10\n",
      "250/250 [==============================] - 4s 18ms/step - loss: 0.6862 - recall_4: 1.0000 - accuracy: 0.5592 - val_loss: 0.6826 - val_recall_4: 1.0000 - val_accuracy: 0.5755\n",
      "Epoch 4/10\n",
      "250/250 [==============================] - 4s 18ms/step - loss: 0.6862 - recall_4: 1.0000 - accuracy: 0.5592 - val_loss: 0.6823 - val_recall_4: 1.0000 - val_accuracy: 0.5755\n",
      "Epoch 5/10\n",
      "250/250 [==============================] - 4s 18ms/step - loss: 0.6862 - recall_4: 1.0000 - accuracy: 0.5592 - val_loss: 0.6823 - val_recall_4: 1.0000 - val_accuracy: 0.5755\n",
      "Epoch 6/10\n",
      "250/250 [==============================] - 4s 18ms/step - loss: 0.6861 - recall_4: 1.0000 - accuracy: 0.5592 - val_loss: 0.6825 - val_recall_4: 1.0000 - val_accuracy: 0.5755\n",
      "Epoch 7/10\n",
      "250/250 [==============================] - 4s 18ms/step - loss: 0.6861 - recall_4: 1.0000 - accuracy: 0.5592 - val_loss: 0.6820 - val_recall_4: 1.0000 - val_accuracy: 0.5755\n",
      "Epoch 8/10\n",
      "250/250 [==============================] - 4s 18ms/step - loss: 0.6860 - recall_4: 1.0000 - accuracy: 0.5592 - val_loss: 0.6819 - val_recall_4: 1.0000 - val_accuracy: 0.5755\n",
      "Epoch 9/10\n",
      "250/250 [==============================] - 4s 18ms/step - loss: 0.6860 - recall_4: 1.0000 - accuracy: 0.5592 - val_loss: 0.6818 - val_recall_4: 1.0000 - val_accuracy: 0.5755\n",
      "Epoch 10/10\n",
      "250/250 [==============================] - 4s 18ms/step - loss: 0.6860 - recall_4: 1.0000 - accuracy: 0.5592 - val_loss: 0.6820 - val_recall_4: 1.0000 - val_accuracy: 0.5755\n"
     ]
    },
    {
     "data": {
      "text/plain": [
       "<keras.callbacks.History at 0x7fcccef77dc0>"
      ]
     },
     "execution_count": 64,
     "metadata": {},
     "output_type": "execute_result"
    }
   ],
   "source": [
    "#model.fit(augmented_images,y,batch_size=32, epochs=3, validation_split=.2)\n",
    "model.fit(X_train, y_train,\n",
    "          validation_data=(X_test,y_test),\n",
    "          epochs = 10)"
   ]
  },
  {
   "cell_type": "code",
   "execution_count": 65,
   "metadata": {
    "id": "dnNvJ8FT1YP6"
   },
   "outputs": [],
   "source": []
  },
  {
   "cell_type": "code",
   "execution_count": 59,
   "metadata": {
    "colab": {
     "base_uri": "https://localhost:8080/"
    },
    "id": "ZSSPLoMyCpm1",
    "outputId": "5dc25453-f78d-4406-92b6-2a63eb965db7"
   },
   "outputs": [
    {
     "name": "stdout",
     "output_type": "stream",
     "text": [
      "313/313 [==============================] - 2s 6ms/step\n"
     ]
    },
    {
     "data": {
      "text/plain": [
       "array([   0,    1,    2, ..., 9997, 9998, 9999])"
      ]
     },
     "execution_count": 59,
     "metadata": {},
     "output_type": "execute_result"
    }
   ],
   "source": [
    "sum(np.where(model.predict(augmented_images) > .5))"
   ]
  },
  {
   "cell_type": "markdown",
   "metadata": {
    "id": "BH1un8juqUK_"
   },
   "source": []
  }
 ],
 "metadata": {
  "accelerator": "GPU",
  "colab": {
   "provenance": []
  },
  "gpuClass": "standard",
  "kernelspec": {
   "display_name": "Python 3 (ipykernel)",
   "language": "python",
   "name": "python3"
  },
  "language_info": {
   "codemirror_mode": {
    "name": "ipython",
    "version": 3
   },
   "file_extension": ".py",
   "mimetype": "text/x-python",
   "name": "python",
   "nbconvert_exporter": "python",
   "pygments_lexer": "ipython3",
   "version": "3.10.6"
  }
 },
 "nbformat": 4,
 "nbformat_minor": 1
}
